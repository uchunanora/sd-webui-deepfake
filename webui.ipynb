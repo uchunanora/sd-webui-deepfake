{
  "cells": [
    {
      "cell_type": "markdown",
      "metadata": {
        "id": "y5PYpiOS7InM"
      },
      "source": [
        "このスクリプトについてのサポート、Stable Diffusion Web UI に関するサポート、および Paperspace に関するサポートについては https://bit.ly/paperspace-openchat に参加してみてください。LINE のオープンチャットです(LINEのメインアカウントの存在および本名がバレることはありません)。よろしくお願いします。"
      ]
    },
    {
      "cell_type": "code",
      "execution_count": null,
      "metadata": {
        "execution": {
          "iopub.execute_input": "2024-02-02T08:22:08.896660Z",
          "iopub.status.busy": "2024-02-02T08:22:08.896367Z",
          "iopub.status.idle": "2024-02-02T08:24:04.503963Z",
          "shell.execute_reply": "2024-02-02T08:24:04.503178Z",
          "shell.execute_reply.started": "2024-02-02T08:22:08.896639Z"
        },
        "id": "qfGtMLwLpCr3"
      },
      "outputs": [],
      "source": [
        "#(2) WebUI起動\n",
        "!apt update\n",
        "!apt -y install python3.10\n",
        "!apt -y install libpython3.10-dev\n",
        "!apt -y install build-essential\n",
        "!apt -y install ffmpeg\n",
        "!curl -sS https://bootstrap.pypa.io/get-pip.py | python3.10\n",
        "!python3.10 -m pip install torch==2.0.1+cu118 torchvision==0.15.2+cu118 torchaudio==2.0.2+cu118 torchtext==0.15.2 torchdata==0.6.1 --extra-index-url https://download.pytorch.org/whl/cu118 -U\n",
        "!python3.10 -m pip install xformers==0.0.20 triton==2.0.0 -U\n",
        "!python3.10 -m pip install httpx==0.24.1\n",
        "#!python3.10 -m pip install insightface -U\n",
        "!python3.10 -m pip install matplotlib -U\n",
        "!python3.10 -m pip install ipython -U\n",
        "from IPython import get_ipython\n",
        "get_ipython().run_line_magic('matplotlib', 'inline')\n",
        "%cd /notebooks/sd-webui-deepfake/stable-diffusion-webui\n",
        "!python3.10 launch.py --xformers --enable-insecure-extension-access --share --gradio-queue\n"
      ]
    },
    {
      "cell_type": "code",
      "execution_count": null,
      "metadata": {
        "execution": {
          "iopub.execute_input": "2024-02-02T02:57:57.704153Z",
          "iopub.status.busy": "2024-02-02T02:57:57.703880Z",
          "iopub.status.idle": "2024-02-02T03:00:29.988681Z",
          "shell.execute_reply": "2024-02-02T03:00:29.987979Z",
          "shell.execute_reply.started": "2024-02-02T02:57:57.704129Z"
        },
        "id": "rIUmi3RhpQiW"
      },
      "outputs": [],
      "source": [
        "#(1) モデルのダウンロード（ここにダウンロードしたいモデルを追加）\n",
        "%cd /notebooks/sd-webui-deepfake/stable-diffusion-webui/models/Stable-diffusion\n",
        "!wget -nc https://civitai.com/api/download/models/177164 -O beautifulRealistic_v7.safetensors\n",
        "# !wget -nc https://civitai.com/api/download/models/16859 -O BlueberryMix-1.0.safetensors\n",
        "# !wget -nc https://civitai.com/api/download/models/11745 -O Chilloutmix-Ni-pruned-fp32-fix.safetensors\n",
        "# !wget -nc https://huggingface.co/sazyou-roukaku/chilled_remix/resolve/5876389637f3f82d2b33a609f85f9b36aa4748fe/chilled_remix_v1vae.safetensors -O chilled_remix_v1vae.safetensors\n",
        "# !wget -nc https://huggingface.co/sazyou-roukaku/chilled_remix/resolve/main/chilled_remix_v2.safetensors -O chilled_remix_v2.safetensors\n",
        "\n",
        "# %cd /notebooks/stable-diffusion-webui/embeddings\n",
        "# !wget -nc https://civitai.com/api/download/models/60938 -O negative_hand-neg.pt\n",
        "# !wget -nc https://huggingface.co/datasets/Nerfgun3/bad_prompt/resolve/main/bad_prompt_version2.pt -O bad_prompt.pt\n",
        "\n",
        "# %cd /notebooks/stable-diffusion-webui/models/VAE\n",
        "# !wget -nc https://huggingface.co/stabilityai/sd-vae-ft-mse-original/resolve/main/vae-ft-mse-840000-ema-pruned.ckpt -O vae-ft-mse-840000-ema-pruned.ckpt\n",
        "\n",
        "# !mkdir -p /notebooks/stable-diffusion-webui/models/Lora\n",
        "# %cd /notebooks/stable-diffusion-webui/models/Lora\n",
        "# !wget -nc https://civitai.com/api/download/models/54280 -O attire_hotlimit-10.safetensors\n"
      ]
    },
    {
      "cell_type": "code",
      "execution_count": null,
      "metadata": {
        "execution": {
          "iopub.execute_input": "2024-02-02T04:34:39.019792Z",
          "iopub.status.busy": "2024-02-02T04:34:39.019001Z",
          "iopub.status.idle": "2024-02-02T04:34:40.264948Z",
          "shell.execute_reply": "2024-02-02T04:34:40.264260Z",
          "shell.execute_reply.started": "2024-02-02T04:34:39.019751Z"
        },
        "id": "a3c-0LBjpYXe"
      },
      "outputs": [],
      "source": [
        "#(3) AUTOMATIC1111アップデート（アップデートが必要な時のみ実行）\n",
        "%cd /notebooks/sd-webui-deepfake/stable-diffusion-webui\n",
        "!git checkout master\n",
        "!git pull\n"
      ]
    }
  ],
  "metadata": {
    "colab": {
      "private_outputs": true,
      "provenance": []
    },
    "gpuClass": "standard",
    "kernelspec": {
      "display_name": "Python 3 (ipykernel)",
      "language": "python",
      "name": "python3"
    },
    "language_info": {
      "codemirror_mode": {
        "name": "ipython",
        "version": 3
      },
      "file_extension": ".py",
      "mimetype": "text/x-python",
      "name": "python",
      "nbconvert_exporter": "python",
      "pygments_lexer": "ipython3",
      "version": "3.10.6"
    }
  },
  "nbformat": 4,
  "nbformat_minor": 0
}
